{
 "cells": [
  {
   "cell_type": "code",
   "execution_count": 1,
   "id": "6ed9b4fe-a151-4cb5-90d3-fc52b7b995a3",
   "metadata": {},
   "outputs": [],
   "source": []
  },
  {
   "cell_type": "code",
   "execution_count": 20,
   "id": "21a8deca-af56-494a-9a3e-48e4d7e72b11",
   "metadata": {},
   "outputs": [],
   "source": [
    "import os\n",
    "import zipfile\n",
    "\n",
    "dataset_path = \"Project ' - Weather Dataset.csv\"\n",
    "os.environ['KAGGLE_CONFIG_DIR'] = os.getcwd()\n",
    "kaggle datasets download -d rohitgrewal/weather-data\n",
    "with zipfile.ZipFile(\"weather-data.zip\", 'r') as zip_ref:\n",
    "    zip_ref.extractall(f\"./{dataset_pathm2}\")"
   ]
  },
  {
   "cell_type": "code",
   "execution_count": 18,
   "id": "c0dc77b6-68b6-42b0-b762-7fc303fb2b8b",
   "metadata": {},
   "outputs": [
    {
     "name": "stdout",
     "output_type": "stream",
     "text": [
      "Figure({\n",
      "    'data': [{'hovertemplate': ('<b>%{hovertext}</b><br><br>X=%' ... '%{marker.color}<extra></extra>'),\n",
      "              'hovertext': array(['A', 'B', 'C', 'D'], dtype=object),\n",
      "              'legendgroup': '',\n",
      "              'marker': {'color': array([10, 20, 30, 40]),\n",
      "                         'coloraxis': 'coloraxis',\n",
      "                         'size': array([ 40,  60,  80, 100]),\n",
      "                         'sizemode': 'area',\n",
      "                         'sizeref': np.float64(0.027777777777777776),\n",
      "                         'symbol': 'circle'},\n",
      "              'mode': 'markers',\n",
      "              'name': '',\n",
      "              'orientation': 'v',\n",
      "              'showlegend': False,\n",
      "              'type': 'scatter',\n",
      "              'x': array([1, 2, 3, 4]),\n",
      "              'xaxis': 'x',\n",
      "              'y': array([10, 11, 12, 13]),\n",
      "              'yaxis': 'y'}],\n",
      "    'layout': {'coloraxis': {'colorbar': {'title': {'text': 'Color'}},\n",
      "                             'colorscale': [[0.0, '#0d0887'], [0.1111111111111111,\n",
      "                                            '#46039f'], [0.2222222222222222,\n",
      "                                            '#7201a8'], [0.3333333333333333,\n",
      "                                            '#9c179e'], [0.4444444444444444,\n",
      "                                            '#bd3786'], [0.5555555555555556,\n",
      "                                            '#d8576b'], [0.6666666666666666,\n",
      "                                            '#ed7953'], [0.7777777777777778,\n",
      "                                            '#fb9f3a'], [0.8888888888888888,\n",
      "                                            '#fdca26'], [1.0, '#f0f921']]},\n",
      "               'legend': {'itemsizing': 'constant', 'tracegroupgap': 0},\n",
      "               'template': '...',\n",
      "               'title': {'text': 'Interactive Bubble Plot Example'},\n",
      "               'xaxis': {'anchor': 'y', 'domain': [0.0, 1.0], 'title': {'text': 'X'}},\n",
      "               'yaxis': {'anchor': 'x', 'domain': [0.0, 1.0], 'title': {'text': 'Y'}}}\n",
      "})\n"
     ]
    }
   ],
   "source": [
    "import plotly.express as px\n",
    "import pandas as pd\n",
    "import plotly.io as pio\n",
    "pio.renderers.default = 'notebook'  # or 'iframe_connected'\n",
    "\n",
    "# Sample data\n",
    "df = pd.DataFrame({\n",
    "    \"Category\": [\"A\", \"B\", \"C\", \"D\"],\n",
    "    \"X\": [1, 2, 3, 4],\n",
    "    \"Y\": [10, 11, 12, 13],\n",
    "    \"Size\": [40, 60, 80, 100],\n",
    "    \"Color\": [10, 20, 30, 40]\n",
    "})\n",
    "\n",
    "fig = px.scatter(df, x=\"X\", y=\"Y\", size=\"Size\", color=\"Color\",\n",
    "                 hover_name=\"Category\", size_max=60,\n",
    "                 title=\"Interactive Bubble Plot Example\")\n",
    "\n",
    "fig.show(renderer='browser')"
   ]
  },
  {
   "cell_type": "code",
   "execution_count": null,
   "id": "ded27bba-0781-437e-a43d-84c1e46af60b",
   "metadata": {},
   "outputs": [],
   "source": []
  },
  {
   "cell_type": "code",
   "execution_count": null,
   "id": "62b6aec3-d46b-432f-ac19-2500b3ead458",
   "metadata": {},
   "outputs": [],
   "source": []
  }
 ],
 "metadata": {
  "kernelspec": {
   "display_name": "Python 3 (ipykernel)",
   "language": "python",
   "name": "python3"
  },
  "language_info": {
   "codemirror_mode": {
    "name": "ipython",
    "version": 3
   },
   "file_extension": ".py",
   "mimetype": "text/x-python",
   "name": "python",
   "nbconvert_exporter": "python",
   "pygments_lexer": "ipython3",
   "version": "3.12.11"
  }
 },
 "nbformat": 4,
 "nbformat_minor": 5
}
